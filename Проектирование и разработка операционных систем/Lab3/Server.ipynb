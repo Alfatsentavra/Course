{
 "cells": [
  {
   "cell_type": "code",
   "execution_count": 1,
   "id": "0d53f82d",
   "metadata": {},
   "outputs": [],
   "source": [
    "import matplotlib.pyplot as plt\n",
    "import numpy as np\n",
    "import math\n",
    "import cmath\n",
    "import random\n",
    "import time\n",
    "import socket"
   ]
  },
  {
   "cell_type": "code",
   "execution_count": 2,
   "id": "f5765c50",
   "metadata": {},
   "outputs": [],
   "source": [
    "server = socket.socket()\n",
    "server.bind((\"127.0.0.1\", 7900))\n",
    "server.listen()"
   ]
  },
  {
   "cell_type": "code",
   "execution_count": 3,
   "id": "0ec07463",
   "metadata": {},
   "outputs": [
    {
     "name": "stdout",
     "output_type": "stream",
     "text": [
      "Введите имя пользователя: User1\n"
     ]
    }
   ],
   "source": [
    "name = input(\"Введите имя пользователя: \" )\n",
    "conn, add = server.accept()"
   ]
  },
  {
   "cell_type": "code",
   "execution_count": 4,
   "id": "bff4c3f9",
   "metadata": {},
   "outputs": [
    {
     "data": {
      "text/plain": [
       "5"
      ]
     },
     "execution_count": 4,
     "metadata": {},
     "output_type": "execute_result"
    }
   ],
   "source": [
    "client = (conn.recv(1024)).decode(\"utf-8\")\n",
    "conn.send(name.encode(\"utf-8\"))"
   ]
  },
  {
   "cell_type": "code",
   "execution_count": null,
   "id": "1f2d41b7",
   "metadata": {},
   "outputs": [],
   "source": [
    "while True:\n",
    "    message = input(name + \": \")\n",
    "    conn.send(message.encode(\"utf-8\"))\n",
    "    message = conn.recv(1024)\n",
    "    message = message.decode(\"utf-8\")\n",
    "    print(client, \": \", message)"
   ]
  }
 ],
 "metadata": {
  "kernelspec": {
   "display_name": "Python 3 (ipykernel)",
   "language": "python",
   "name": "python3"
  },
  "language_info": {
   "codemirror_mode": {
    "name": "ipython",
    "version": 3
   },
   "file_extension": ".py",
   "mimetype": "text/x-python",
   "name": "python",
   "nbconvert_exporter": "python",
   "pygments_lexer": "ipython3",
   "version": "3.11.5"
  }
 },
 "nbformat": 4,
 "nbformat_minor": 5
}
