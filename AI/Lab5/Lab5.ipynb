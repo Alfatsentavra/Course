{
 "cells": [
  {
   "cell_type": "code",
   "execution_count": 1,
   "id": "3d4bc654",
   "metadata": {},
   "outputs": [],
   "source": [
    "from sklearn import datasets\n",
    "from sklearn.neural_network import MLPClassifier\n",
    "from sklearn.model_selection import train_test_split\n",
    "\n",
    "import matplotlib.pyplot as plt\n",
    "import matplotlib.image as mpimg\n",
    "import numpy as np\n",
    "\n",
    "%matplotlib inline"
   ]
  },
  {
   "cell_type": "code",
   "execution_count": 2,
   "id": "010fd604",
   "metadata": {},
   "outputs": [],
   "source": [
    "img = []\n",
    "tar = []\n",
    "for i in range(20):\n",
    "    img.append(mpimg.imread(str(i)+'.jpg'))\n",
    "    tar.append('=')\n",
    "img = np.array(img)\n",
    "tar = np.array(tar)\n",
    "digits = datasets.load_digits()"
   ]
  },
  {
   "cell_type": "code",
   "execution_count": 3,
   "id": "783e5fa7",
   "metadata": {},
   "outputs": [],
   "source": [
    "n_samples = len(digits.images)\n",
    "data = digits.images.reshape((n_samples, -1))\n",
    "label = digits.target.reshape((n_samples,))"
   ]
  },
  {
   "cell_type": "code",
   "execution_count": 4,
   "id": "cca9c15e",
   "metadata": {},
   "outputs": [],
   "source": [
    "img_gray = []\n",
    "for i in range(20):\n",
    "    img_gray.append((16-img[i][:,:,0]*16).astype(int))"
   ]
  },
  {
   "cell_type": "code",
   "execution_count": 5,
   "id": "8c825366",
   "metadata": {},
   "outputs": [],
   "source": [
    "for i in range(20):\n",
    "    data = np.append(data,img_gray[i].reshape(1,64), axis=0)"
   ]
  },
  {
   "cell_type": "code",
   "execution_count": 6,
   "id": "abd3c01f",
   "metadata": {},
   "outputs": [],
   "source": [
    "label = np.append(label, tar)"
   ]
  },
  {
   "cell_type": "code",
   "execution_count": 7,
   "id": "5efe48b5",
   "metadata": {},
   "outputs": [],
   "source": [
    "X_train, X_test, y_train, y_test = train_test_split(data, label, test_size = 0.3, random_state = 42)"
   ]
  },
  {
   "cell_type": "code",
   "execution_count": 8,
   "id": "34d0eed1",
   "metadata": {},
   "outputs": [],
   "source": [
    "mlp = MLPClassifier(hidden_layer_sizes=(50,), max_iter=100, alpha=1e-4, solver='sgd', verbose=10, tol=1e-4, random_state=1, learning_rate_init=.03)"
   ]
  },
  {
   "cell_type": "code",
   "execution_count": 9,
   "id": "fa35790b",
   "metadata": {},
   "outputs": [
    {
     "name": "stdout",
     "output_type": "stream",
     "text": [
      "Iteration 1, loss = 7.88808101\n",
      "Iteration 2, loss = 2.12992255\n",
      "Iteration 3, loss = 1.79935464\n",
      "Iteration 4, loss = 1.49366418\n",
      "Iteration 5, loss = 1.33250305\n",
      "Iteration 6, loss = 1.14154141\n",
      "Iteration 7, loss = 0.83355818\n",
      "Iteration 8, loss = 0.66422754\n",
      "Iteration 9, loss = 0.58479268\n",
      "Iteration 10, loss = 0.50750602\n",
      "Iteration 11, loss = 0.47052339\n",
      "Iteration 12, loss = 0.38136301\n",
      "Iteration 13, loss = 0.34578289\n",
      "Iteration 14, loss = 0.26136967\n",
      "Iteration 15, loss = 0.25986934\n",
      "Iteration 16, loss = 0.19306363\n",
      "Iteration 17, loss = 0.16064534\n",
      "Iteration 18, loss = 0.11720488\n",
      "Iteration 19, loss = 0.13398590\n",
      "Iteration 20, loss = 0.11790459\n",
      "Iteration 21, loss = 0.09929983\n",
      "Iteration 22, loss = 0.08860697\n",
      "Iteration 23, loss = 0.08126132\n",
      "Iteration 24, loss = 0.07409411\n",
      "Iteration 25, loss = 0.07498239\n",
      "Iteration 26, loss = 0.06570871\n",
      "Iteration 27, loss = 0.06394531\n",
      "Iteration 28, loss = 0.06482436\n",
      "Iteration 29, loss = 0.05522478\n",
      "Iteration 30, loss = 0.06225733\n",
      "Iteration 31, loss = 0.05363475\n",
      "Iteration 32, loss = 0.05033397\n",
      "Iteration 33, loss = 0.05476919\n",
      "Iteration 34, loss = 0.07582170\n",
      "Iteration 35, loss = 0.04485497\n",
      "Iteration 36, loss = 0.04668956\n",
      "Iteration 37, loss = 0.04376039\n",
      "Iteration 38, loss = 0.04144837\n",
      "Iteration 39, loss = 0.03757050\n",
      "Iteration 40, loss = 0.03375219\n",
      "Iteration 41, loss = 0.03344605\n",
      "Iteration 42, loss = 0.03226430\n",
      "Iteration 43, loss = 0.03846360\n",
      "Iteration 44, loss = 0.03097964\n",
      "Iteration 45, loss = 0.02809743\n",
      "Iteration 46, loss = 0.02945877\n",
      "Iteration 47, loss = 0.02996255\n",
      "Iteration 48, loss = 0.02777286\n",
      "Iteration 49, loss = 0.02775116\n",
      "Iteration 50, loss = 0.02747994\n",
      "Iteration 51, loss = 0.02976638\n",
      "Iteration 52, loss = 0.02526824\n",
      "Iteration 53, loss = 0.02867811\n",
      "Iteration 54, loss = 0.02924000\n",
      "Iteration 55, loss = 0.02611907\n",
      "Iteration 56, loss = 0.02448565\n",
      "Iteration 57, loss = 0.02584614\n",
      "Iteration 58, loss = 0.02386756\n",
      "Iteration 59, loss = 0.02296098\n",
      "Iteration 60, loss = 0.02398686\n",
      "Iteration 61, loss = 0.03353725\n",
      "Iteration 62, loss = 0.03268485\n",
      "Iteration 63, loss = 0.02819704\n",
      "Iteration 64, loss = 0.04654170\n",
      "Iteration 65, loss = 0.02806421\n",
      "Iteration 66, loss = 0.02615741\n",
      "Iteration 67, loss = 0.03080528\n",
      "Iteration 68, loss = 0.05420584\n",
      "Iteration 69, loss = 0.03940202\n",
      "Iteration 70, loss = 0.04532176\n",
      "Training loss did not improve more than tol=0.000100 for 10 consecutive epochs. Stopping.\n",
      "Training set acore:  0.996852871754524\n",
      "Test set score:  0.9230769230769231\n"
     ]
    }
   ],
   "source": [
    "mlp.fit(X_train, y_train)\n",
    "print(\"Training set acore: \", mlp.score(X_train, y_train))\n",
    "print(\"Test set score: \", mlp.score(X_test, y_test))"
   ]
  },
  {
   "cell_type": "code",
   "execution_count": 10,
   "id": "638ec994",
   "metadata": {},
   "outputs": [
    {
     "data": {
      "image/png": "[encoded data removed]",
      "text/plain": [
       "<Figure size 640x480 with 50 Axes>"
      ]
     },
     "metadata": {},
     "output_type": "display_data"
    }
   ],
   "source": [
    "fig, axes = plt.subplots(5, 10)\n",
    "vmin, vmax = mlp.coefs_[0].min(), mlp.coefs_[0].max() \n",
    "for coef, ax in zip(mlp.coefs_[0].T, axes.ravel()):\n",
    "    ax.matshow(coef.reshape(8, 8), cmap=plt.cm.gray, vmin=.5 * vmin,\n",
    "               vmax=.5 * vmax)\n",
    "    ax.set_xticks(()) \n",
    "    ax.set_yticks(())\n",
    "    \n",
    "plt. show()"
   ]
  },
  {
   "cell_type": "code",
   "execution_count": 11,
   "id": "fd14a0d6",
   "metadata": {},
   "outputs": [
    {
     "data": {
      "text/plain": [
       "[array([[-3.80694532e-02,  2.37701348e-02, -2.04914373e-01, ...,\n",
       "         -1.28348348e-01, -1.04795077e-01, -1.73387086e-01],\n",
       "        [-2.19917948e-01, -5.96305503e-02, -8.72603634e-02, ...,\n",
       "         -4.51944305e-02, -2.60374973e-01,  5.07279514e-02],\n",
       "        [-7.83414830e-02, -6.85601628e-02, -4.74669226e-04, ...,\n",
       "         -4.35603103e-01, -1.99381495e-01, -2.24979683e-01],\n",
       "        ...,\n",
       "        [-2.79243882e-01, -6.31899681e-02, -2.33533952e-01, ...,\n",
       "         -4.38351555e-01,  1.44523102e-01, -3.43163835e-02],\n",
       "        [-1.63202304e-01, -3.07708726e-01,  9.58243972e-02, ...,\n",
       "         -2.00555621e-01, -5.03841535e-02, -5.80513799e-02],\n",
       "        [-1.74491219e-01, -7.08930125e-02, -1.25817898e-01, ...,\n",
       "          7.81924191e-02,  2.46485883e-04,  1.69528403e-01]]),\n",
       " array([[ 8.55659651e-02,  1.33392733e-01,  2.53330688e-01,\n",
       "          1.76263793e-01,  1.11762805e-01,  2.59519859e-02,\n",
       "         -1.47752723e-01,  9.50249744e-02,  1.78180014e-01,\n",
       "          2.49502841e-01,  2.58215901e-01],\n",
       "        [ 2.30571198e-01, -2.12854933e-01, -8.89418241e-02,\n",
       "          2.15640416e-01,  8.19213455e-02, -4.92821087e-01,\n",
       "          2.36632192e-01,  2.23097663e-01, -5.15813902e-01,\n",
       "          1.63808153e-01,  1.53108822e-01],\n",
       "        [ 2.74973318e-01,  8.42791600e-02, -2.48467139e-01,\n",
       "         -2.45724877e-02, -2.36081395e-01, -2.83147576e-01,\n",
       "         -5.62049334e-03,  1.66622226e-01, -7.69299304e-02,\n",
       "         -2.42754805e-01,  2.20878774e-01],\n",
       "        [ 1.87926247e-01,  1.08056853e-01, -1.99932497e-01,\n",
       "         -1.96381823e-01,  3.84730869e-01,  2.94838702e-01,\n",
       "         -2.68287975e-01,  4.41214538e-02, -9.16339709e-02,\n",
       "         -1.39671143e-01,  6.05568179e-01],\n",
       "        [ 1.92631548e-01,  2.14551519e-01,  1.40287939e-01,\n",
       "          5.15723982e-01, -6.48100714e-01,  5.64457355e-03,\n",
       "         -1.25245424e-02,  2.21185170e-01,  5.01043906e-02,\n",
       "         -6.87441157e-01, -2.28701238e-01],\n",
       "        [-7.46095911e-02,  8.83168291e-02, -2.14456010e-01,\n",
       "          1.38276956e-01,  1.83603679e-02, -3.33148140e-01,\n",
       "          2.13259906e-01,  2.36935433e-01, -1.03682335e-01,\n",
       "          3.18916351e-02, -1.37208752e-01],\n",
       "        [ 4.13384885e-01,  1.59045781e-02,  1.45390238e-01,\n",
       "          1.60813882e-01,  3.27787048e-02, -1.36553522e+00,\n",
       "          9.56353517e-02,  1.31893981e-01, -3.52557390e-01,\n",
       "          2.21327661e-01,  2.12158965e-01],\n",
       "        [ 5.25210549e-01,  2.57003661e-01,  4.56726568e-01,\n",
       "          7.80349545e-02,  2.16376531e-01, -3.68254373e-01,\n",
       "         -6.37374099e-02,  1.56392448e-01, -9.86756941e-01,\n",
       "         -4.18125228e-02,  6.47428980e-01],\n",
       "        [ 2.37593774e-01, -1.61726051e-01, -3.99345672e-01,\n",
       "         -2.63938931e-02,  2.92442110e-01, -2.44064670e-01,\n",
       "          5.54213133e-01,  4.24042820e-02, -2.84980885e-01,\n",
       "          3.24926198e-01,  1.24587395e-01],\n",
       "        [-5.09711129e-01,  6.82918692e-01,  9.64283217e-01,\n",
       "          3.78705278e-01, -2.53027367e-01, -5.51730431e-01,\n",
       "          2.68757628e-01, -2.77082726e-01,  6.59447466e-01,\n",
       "         -1.13987993e-01, -2.31494721e-01],\n",
       "        [-1.48380339e-01, -2.40300503e-01, -1.83920873e-01,\n",
       "          1.14413058e-01,  2.49254353e-01,  8.71238333e-02,\n",
       "         -2.06159323e-01, -2.57930618e-01,  3.83695416e-02,\n",
       "         -1.15062139e-01, -4.01253727e-02],\n",
       "        [-1.47734980e-01,  4.78650954e-01, -4.48706624e-01,\n",
       "          1.55644784e-01, -1.21920713e-01,  5.28723606e-01,\n",
       "          3.41996510e-01, -2.68043223e-01,  1.99531876e-01,\n",
       "         -1.31928467e-01, -8.88602047e-01],\n",
       "        [ 1.10686033e+00,  8.91956321e-01, -1.54547951e+00,\n",
       "         -2.57326372e-01,  4.86813223e-01,  3.23200669e-01,\n",
       "          8.46614475e-01, -7.71712141e-01,  5.75193385e-01,\n",
       "         -2.25904181e-01, -1.82918749e+00],\n",
       "        [-9.07280028e-02,  5.15102464e-01, -8.50368611e-01,\n",
       "          6.53748716e-01, -9.34398367e-02, -5.67155298e-01,\n",
       "          5.48558482e-01,  3.59383180e-01, -3.52610991e-01,\n",
       "          4.23108378e-01, -9.74597244e-02],\n",
       "        [ 5.28794554e-01,  1.38760268e-01, -1.04398541e+00,\n",
       "         -1.20710816e-01,  5.38260699e-01,  1.96944181e-01,\n",
       "          7.29717015e-01, -8.75042384e-02,  2.89999304e-01,\n",
       "         -1.37547840e-02, -1.42311992e-01],\n",
       "        [ 2.33234024e-01, -1.44417283e-01, -1.60567478e-01,\n",
       "         -2.66922846e-01, -1.27183050e-01,  2.28462471e-02,\n",
       "          3.30032968e-02, -5.09458178e-02,  1.04371656e-01,\n",
       "         -9.00541722e-02, -2.10486821e-01],\n",
       "        [-7.62223154e-02, -6.07995042e-02, -8.17935608e-02,\n",
       "          9.99340474e-02, -1.50512565e-01,  4.09157899e-02,\n",
       "         -1.65018294e-01, -9.16129853e-02, -1.33915693e-01,\n",
       "          3.18061833e-02,  2.60635502e-02],\n",
       "        [-1.41870514e-01,  1.07933861e-01, -2.90402529e-01,\n",
       "         -1.07924756e-01, -1.86591835e-01,  6.91947518e-02,\n",
       "          2.39925337e-01, -1.57413329e-01,  3.07507052e-02,\n",
       "         -1.58289931e-01,  1.85666097e-01],\n",
       "        [ 8.36265409e-01,  3.68501970e-01, -7.40816108e-02,\n",
       "         -4.60419994e-01,  1.63635562e-01, -1.58813996e-01,\n",
       "          3.82074725e-01, -3.34195971e-01, -5.28696641e-02,\n",
       "          3.21072629e-02, -6.67978064e-01],\n",
       "        [ 7.29256413e-02,  9.35123998e-02, -1.94311950e-01,\n",
       "         -2.53691264e-01, -6.21378253e-02,  1.73686429e-02,\n",
       "         -7.42587490e-02, -6.61853880e-02, -1.21475822e-01,\n",
       "          2.72564110e-01, -2.38429514e-01],\n",
       "        [ 2.06338870e-01,  3.02297570e-01, -1.46202928e-01,\n",
       "          2.39032921e-01, -1.23451188e-01,  1.82088438e-01,\n",
       "         -2.52109396e-02,  6.10809345e-02, -1.60323751e-01,\n",
       "          1.17617899e-01, -2.20355307e-01],\n",
       "        [ 1.13120248e+00,  3.57305271e-01, -2.66408561e+00,\n",
       "          7.04550653e-01, -2.04058443e-01, -6.37756409e-01,\n",
       "          2.03042330e-01,  7.19395294e-01,  2.19385243e-01,\n",
       "          4.97132021e-01,  7.86782452e-02],\n",
       "        [ 6.14991764e-01,  3.18380159e-02,  1.22087380e-02,\n",
       "         -2.31261825e-01,  5.45480469e-01, -9.70294265e-01,\n",
       "          4.08306991e-01,  1.34765315e-01, -1.95641479e-01,\n",
       "         -2.25811582e-02,  9.30029727e-02],\n",
       "        [ 6.00028854e-01,  4.17795124e-01, -1.99153315e+00,\n",
       "          1.02505153e-01, -1.46071817e-01, -5.64639714e-01,\n",
       "          4.25240210e-01,  2.85591401e-01,  3.80065362e-02,\n",
       "          8.24820052e-02, -6.21369690e-02],\n",
       "        [ 7.85025578e-02, -1.96688280e-01,  1.59782899e-01,\n",
       "          2.45713420e-01,  1.91139668e-01, -4.47093652e-01,\n",
       "         -1.48721332e-01,  1.44789118e-01, -1.61540434e-01,\n",
       "         -3.58185667e-02, -2.60517643e-01],\n",
       "        [ 1.65078183e-01,  2.19865872e-01, -1.77060818e-01,\n",
       "         -1.72064963e-02, -3.35203525e-01, -2.01842075e-01,\n",
       "          3.10283475e-01, -2.99616540e-02,  2.28900440e-01,\n",
       "          2.31210697e-01,  2.32803730e-02],\n",
       "        [ 2.74722292e-01, -6.25331136e-02, -7.21361483e-01,\n",
       "         -8.61146694e-02, -1.56283637e-01, -3.36117249e-01,\n",
       "          7.19374301e-01,  1.65718167e-01, -2.36841346e-01,\n",
       "         -2.28872141e-02,  2.11556597e-01],\n",
       "        [ 1.84127374e-01, -2.93683950e-01,  2.37454427e-01,\n",
       "          5.42671547e-02, -1.18386559e-02,  1.08304018e-01,\n",
       "         -2.89345183e-01, -1.13850701e-01, -2.58672134e-01,\n",
       "          1.15020059e-01, -6.40304881e-02],\n",
       "        [ 2.94966146e-01, -1.34005289e-01,  6.53145051e-02,\n",
       "         -1.95115377e-01,  6.07378475e-02, -5.43222358e-01,\n",
       "          2.80484883e-01,  8.50735941e-02, -4.69859589e-02,\n",
       "         -1.01463637e-01, -1.57178412e-01],\n",
       "        [-1.28705187e-01,  6.57920602e-01, -2.21959743e+00,\n",
       "          5.05905640e-01, -4.44224833e-01, -7.01274678e-01,\n",
       "          2.80131039e-01,  4.26816241e-01,  5.05937323e-01,\n",
       "          9.55721792e-02,  3.86582595e-01],\n",
       "        [ 1.06156143e-01, -1.76835592e-01,  1.51390481e-02,\n",
       "          3.03924800e-01,  9.58628654e-02, -5.76992629e-01,\n",
       "          1.75701467e-01,  1.58928838e-01, -1.18667876e-01,\n",
       "          2.34976807e-01,  1.08577750e-01],\n",
       "        [-3.82925019e-01,  3.88305606e-01, -4.93989013e-01,\n",
       "         -2.01003817e-01,  9.02431778e-01, -2.46091947e-02,\n",
       "         -1.78231046e-01,  8.53788007e-01, -7.64925894e-01,\n",
       "         -1.92944159e-01, -3.08511080e-01],\n",
       "        [ 7.28920089e-02, -2.62955327e-02, -1.57041684e-01,\n",
       "          4.08109568e-02, -8.08263048e-02, -4.70797853e-01,\n",
       "         -1.13669642e-01,  3.74218596e-01,  1.84356831e-01,\n",
       "          1.46251648e-01, -6.18484208e-02],\n",
       "        [-2.16626726e-01,  1.22333912e-01, -8.55702062e-02,\n",
       "          6.30119147e-02, -8.60286690e-02, -3.13598098e-01,\n",
       "         -2.37882075e-01, -1.69691892e-01, -2.71949675e-01,\n",
       "         -3.07487900e-02,  7.14109724e-02],\n",
       "        [ 7.52345903e-01,  3.42123136e-01,  4.48910167e-02,\n",
       "          5.69983421e-02,  2.49170355e-02, -9.91684414e-01,\n",
       "          6.55893471e-01, -2.19412567e-01,  1.08817750e-01,\n",
       "          2.70243966e-01, -2.67036629e-01],\n",
       "        [ 6.67038646e-01, -1.18278715e-01, -1.78101348e+00,\n",
       "          5.54464013e-01, -6.02237707e-01, -9.82431671e-02,\n",
       "          8.35585746e-01,  2.96211205e-01,  1.58253755e-02,\n",
       "          3.32846557e-01, -1.24328168e-01],\n",
       "        [-1.24976514e-02,  1.60869760e-01, -2.21289051e-01,\n",
       "          1.47263458e-01, -2.79767957e-02, -1.11004835e+00,\n",
       "          4.31565716e-01,  5.40775478e-01, -4.01537220e-01,\n",
       "         -3.48447158e-02,  4.02359631e-01],\n",
       "        [ 1.94997790e-01, -2.23421854e-01, -1.41428422e-01,\n",
       "          6.07759934e-02, -1.46622680e-01, -4.73090079e-02,\n",
       "         -2.08258051e-01,  1.83438049e-01,  1.13908196e-01,\n",
       "         -2.28385801e-01, -1.50055483e-01],\n",
       "        [-1.99941754e-01, -7.06091205e-01,  4.97693977e-02,\n",
       "          4.05592310e-01, -8.85140757e-01,  9.12676689e-01,\n",
       "         -2.41309904e-01,  1.89534963e-01,  3.62888375e-01,\n",
       "          2.22145441e-01, -3.72878202e-01],\n",
       "        [-2.03799269e-01,  4.98814433e-01, -5.81943235e-01,\n",
       "          2.12005679e-01,  7.03101010e-02, -6.67813258e-01,\n",
       "         -3.04612477e-01, -9.58285452e-02, -4.28483321e-01,\n",
       "          7.99269766e-01, -3.30614920e-02],\n",
       "        [-9.19911482e-02,  1.27644795e-01,  2.79444809e-01,\n",
       "          1.07371638e-01,  4.67599897e-02, -2.18878554e-01,\n",
       "         -1.59528709e-02,  2.72040738e-02, -1.98196275e-02,\n",
       "         -1.55842356e-01, -1.86021667e-01],\n",
       "        [ 4.84896395e-01,  2.34523416e-01, -1.76679171e-01,\n",
       "         -9.69091813e-03,  1.43325631e-01, -7.89339850e-01,\n",
       "          1.13718580e-01,  4.56769305e-01, -2.07239536e-01,\n",
       "         -1.26720983e-01, -2.94196812e-02],\n",
       "        [ 4.63839677e-02,  4.44982250e-01, -1.70489541e+00,\n",
       "          3.26010176e-01, -4.22038971e-01, -2.79430511e-02,\n",
       "          3.47143504e-01, -1.02134837e-01,  5.57942955e-01,\n",
       "          2.85561717e-01, -3.11733997e-01],\n",
       "        [-2.55486791e-01,  2.53279652e-01,  3.28982597e-01,\n",
       "         -1.14813245e-01, -1.02135382e-01,  7.00797824e-02,\n",
       "          7.95684288e-02,  1.02540532e-01,  1.66749263e-01,\n",
       "         -2.71261818e-01, -6.55134834e-02],\n",
       "        [ 3.75249636e-02,  2.43794872e-01,  5.46213519e-03,\n",
       "         -2.10818150e-01,  2.72824066e-01, -3.29025793e-01,\n",
       "          4.01264508e-01,  3.03977585e-01, -8.74894984e-02,\n",
       "          2.08075219e-01, -1.14154034e-01],\n",
       "        [ 8.57314651e-02, -1.80975770e-01, -9.46682842e-02,\n",
       "          9.80651819e-02,  4.46232033e-01, -9.73055042e-01,\n",
       "         -2.55177442e-02,  2.40901017e-03, -2.69025329e-01,\n",
       "          2.82616598e-01,  1.73679797e-01],\n",
       "        [ 1.06168473e-01, -1.41867810e-01, -2.66118229e-01,\n",
       "          1.67518582e-02, -1.48298814e-01, -1.22028673e-02,\n",
       "          2.10802024e-01,  9.40567665e-02,  1.35262582e-01,\n",
       "         -2.45758324e-01,  4.61123999e-02],\n",
       "        [ 5.32035268e-01,  1.05463560e+00, -1.83649704e+00,\n",
       "         -1.66906877e-01,  3.79865477e-01, -1.72243683e-02,\n",
       "          6.31852745e-01, -4.82242868e-01,  5.08599651e-01,\n",
       "         -6.60851694e-02, -5.68214454e-01],\n",
       "        [ 7.43250467e-02,  3.45332168e-01, -4.22390366e-01,\n",
       "          5.56352783e-01,  1.61628995e-01, -7.86556746e-01,\n",
       "          2.67453298e-02,  2.25611708e-02,  6.37332594e-02,\n",
       "          2.44348018e-01,  2.20705382e-01],\n",
       "        [-8.13104968e-02,  8.81182201e-03, -2.10567809e-01,\n",
       "          9.22399197e-02, -1.92936335e-01,  1.77208820e-01,\n",
       "         -1.75273858e-01, -1.19537377e-01,  1.77464556e-01,\n",
       "          2.69248977e-01,  2.18086067e-01]])]"
      ]
     },
     "execution_count": 11,
     "metadata": {},
     "output_type": "execute_result"
    }
   ],
   "source": [
    "mlp.coefs_"
   ]
  },
  {
   "cell_type": "code",
   "execution_count": 12,
   "id": "aaa0ec7b",
   "metadata": {},
   "outputs": [
    {
     "data": {
      "text/plain": [
       "<matplotlib.image.AxesImage at 0x23d2b8f54f0>"
      ]
     },
     "execution_count": 12,
     "metadata": {},
     "output_type": "execute_result"
    },
    {
     "data": {
      "image/png": "[encoded data removed]",
      "text/plain": [
       "<Figure size 640x480 with 1 Axes>"
      ]
     },
     "metadata": {},
     "output_type": "display_data"
    }
   ],
   "source": [
    "img = mpimg.imread('16.jpg')\n",
    "plt.imshow(img, cmap = plt.get_cmap('gray'))"
   ]
  },
  {
   "cell_type": "code",
   "execution_count": 13,
   "id": "a6b07c9d",
   "metadata": {},
   "outputs": [],
   "source": [
    "img_gray = (16-img[:,:,0]*16).astype(int)"
   ]
  },
  {
   "cell_type": "code",
   "execution_count": 14,
   "id": "8e191d2b",
   "metadata": {},
   "outputs": [
    {
     "name": "stdout",
     "output_type": "stream",
     "text": [
      "Это символ - =\n"
     ]
    }
   ],
   "source": [
    "pr_my = mlp.predict(img_gray.reshape(1,64))\n",
    "print('Это символ - '+str(pr_my[0]))"
   ]
  }
 ],
 "metadata": {
  "kernelspec": {
   "display_name": "Python 3 (ipykernel)",
   "language": "python",
   "name": "python3"
  },
  "language_info": {
   "codemirror_mode": {
    "name": "ipython",
    "version": 3
   },
   "file_extension": ".py",
   "mimetype": "text/x-python",
   "name": "python",
   "nbconvert_exporter": "python",
   "pygments_lexer": "ipython3",
   "version": "3.9.13"
  }
 },
 "nbformat": 4,
 "nbformat_minor": 5
}
