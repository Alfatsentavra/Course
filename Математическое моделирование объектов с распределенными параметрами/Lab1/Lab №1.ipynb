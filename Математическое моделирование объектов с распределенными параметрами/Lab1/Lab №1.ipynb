{
 "cells": [
  {
   "cell_type": "code",
   "execution_count": 1,
   "id": "73a4dcbb",
   "metadata": {},
   "outputs": [],
   "source": [
    "from sympy import *\n",
    "\n",
    "init_printing()"
   ]
  },
  {
   "cell_type": "code",
   "execution_count": 2,
   "id": "603ef13b",
   "metadata": {},
   "outputs": [],
   "source": [
    "x, y = symbols('x, y') "
   ]
  },
  {
   "cell_type": "markdown",
   "id": "06683633",
   "metadata": {},
   "source": [
    "# Вычисление пределов"
   ]
  },
  {
   "cell_type": "code",
   "execution_count": 3,
   "id": "0f842e9e",
   "metadata": {},
   "outputs": [
    {
     "data": {
      "image/png": "[encoded data removed]",
      "text/latex": [
       "$\\displaystyle \\frac{- \\sin^{2}{\\left(2 x \\right)} + \\operatorname{atan}{\\left(5 x \\right)}}{\\left(1 - x\\right)^{0.2} - 1}$"
      ],
      "text/plain": [
       "     2                 \n",
       "- sin (2⋅x) + atan(5⋅x)\n",
       "───────────────────────\n",
       "            0.2        \n",
       "     (1 - x)    - 1    "
      ]
     },
     "execution_count": 3,
     "metadata": {},
     "output_type": "execute_result"
    }
   ],
   "source": [
    "f = (atan(5*x) - sin(2*x)**2)/((1 - x)**(1/5) - 1)\n",
    "f"
   ]
  },
  {
   "cell_type": "code",
   "execution_count": 4,
   "id": "fde0b1f3",
   "metadata": {},
   "outputs": [
    {
     "data": {
      "image/png": "[encoded data removed]",
      "text/latex": [
       "$\\displaystyle \\lim_{x \\to 0^+}\\left(\\frac{- \\sin^{2}{\\left(2 x \\right)} + \\operatorname{atan}{\\left(5 x \\right)}}{\\left(1 - x\\right)^{0.2} - 1}\\right)$"
      ],
      "text/plain": [
       "     ⎛     2                 ⎞\n",
       "     ⎜- sin (2⋅x) + atan(5⋅x)⎟\n",
       " lim ⎜───────────────────────⎟\n",
       "x─→0⁺⎜            0.2        ⎟\n",
       "     ⎝     (1 - x)    - 1    ⎠"
      ]
     },
     "execution_count": 4,
     "metadata": {},
     "output_type": "execute_result"
    }
   ],
   "source": [
    "pred = Limit(f, x, 0)\n",
    "pred"
   ]
  },
  {
   "cell_type": "code",
   "execution_count": 5,
   "id": "a4a2840b",
   "metadata": {},
   "outputs": [
    {
     "data": {
      "image/png": "[encoded data removed]",
      "text/latex": [
       "$\\displaystyle -25$"
      ],
      "text/plain": [
       "-25"
      ]
     },
     "execution_count": 5,
     "metadata": {},
     "output_type": "execute_result"
    }
   ],
   "source": [
    "limit(f, x, 0)"
   ]
  },
  {
   "cell_type": "code",
   "execution_count": 6,
   "id": "fbb69f77",
   "metadata": {},
   "outputs": [
    {
     "data": {
      "image/png": "[encoded data removed]",
      "text/latex": [
       "$\\displaystyle -25$"
      ],
      "text/plain": [
       "-25"
      ]
     },
     "execution_count": 6,
     "metadata": {},
     "output_type": "execute_result"
    }
   ],
   "source": [
    "pred.doit()"
   ]
  },
  {
   "cell_type": "markdown",
   "id": "ffec9b0c",
   "metadata": {},
   "source": [
    "# Вычисление производных"
   ]
  },
  {
   "cell_type": "code",
   "execution_count": 7,
   "id": "0abff65f",
   "metadata": {},
   "outputs": [
    {
     "data": {
      "image/png": "[encoded data removed]",
      "text/latex": [
       "$\\displaystyle - \\frac{\\sin{\\left(2 x - 1 \\right)}}{\\tan^{3}{\\left(2 x \\right)}}$"
      ],
      "text/plain": [
       "-sin(2⋅x - 1) \n",
       "──────────────\n",
       "     3        \n",
       "  tan (2⋅x)   "
      ]
     },
     "execution_count": 7,
     "metadata": {},
     "output_type": "execute_result"
    }
   ],
   "source": [
    "f = (sin(1 - 2*x))/(tan(2*x)**3)\n",
    "f"
   ]
  },
  {
   "cell_type": "code",
   "execution_count": 8,
   "id": "6e1f172e",
   "metadata": {},
   "outputs": [
    {
     "data": {
      "image/png": "[encoded data removed]",
      "text/latex": [
       "$\\displaystyle - \\frac{\\left(- 6 \\tan^{2}{\\left(2 x \\right)} - 6\\right) \\sin{\\left(2 x - 1 \\right)}}{\\tan^{4}{\\left(2 x \\right)}} - \\frac{2 \\cos{\\left(2 x - 1 \\right)}}{\\tan^{3}{\\left(2 x \\right)}}$"
      ],
      "text/plain": [
       "  ⎛       2         ⎞                              \n",
       "  ⎝- 6⋅tan (2⋅x) - 6⎠⋅sin(2⋅x - 1)   2⋅cos(2⋅x - 1)\n",
       "- ──────────────────────────────── - ──────────────\n",
       "                4                         3        \n",
       "             tan (2⋅x)                 tan (2⋅x)   "
      ]
     },
     "execution_count": 8,
     "metadata": {},
     "output_type": "execute_result"
    }
   ],
   "source": [
    "dif = f.diff(x)\n",
    "dif"
   ]
  },
  {
   "cell_type": "code",
   "execution_count": 9,
   "id": "88ace116",
   "metadata": {},
   "outputs": [
    {
     "data": {
      "image/png": "[encoded data removed]",
      "text/latex": [
       "$\\displaystyle - \\frac{\\left(- 8 \\tan^{2}{\\left(2 x \\right)} - 8\\right) \\left(- 6 \\tan^{2}{\\left(2 x \\right)} - 6\\right) \\sin{\\left(2 x - 1 \\right)}}{\\tan^{5}{\\left(2 x \\right)}} - \\frac{4 \\left(- 6 \\tan^{2}{\\left(2 x \\right)} - 6\\right) \\cos{\\left(2 x - 1 \\right)}}{\\tan^{4}{\\left(2 x \\right)}} + \\frac{6 \\cdot \\left(4 \\tan^{2}{\\left(2 x \\right)} + 4\\right) \\sin{\\left(2 x - 1 \\right)}}{\\tan^{3}{\\left(2 x \\right)}} + \\frac{4 \\sin{\\left(2 x - 1 \\right)}}{\\tan^{3}{\\left(2 x \\right)}}$"
      ],
      "text/plain": [
       "  ⎛       2         ⎞ ⎛       2         ⎞                  ⎛       2         ⎞\n",
       "  ⎝- 8⋅tan (2⋅x) - 8⎠⋅⎝- 6⋅tan (2⋅x) - 6⎠⋅sin(2⋅x - 1)   4⋅⎝- 6⋅tan (2⋅x) - 6⎠\n",
       "- ──────────────────────────────────────────────────── - ─────────────────────\n",
       "                          5                                             4     \n",
       "                       tan (2⋅x)                                     tan (2⋅x)\n",
       "\n",
       "                  ⎛     2         ⎞                              \n",
       "⋅cos(2⋅x - 1)   6⋅⎝4⋅tan (2⋅x) + 4⎠⋅sin(2⋅x - 1)   4⋅sin(2⋅x - 1)\n",
       "───────────── + ──────────────────────────────── + ──────────────\n",
       "                              3                         3        \n",
       "                           tan (2⋅x)                 tan (2⋅x)   "
      ]
     },
     "execution_count": 9,
     "metadata": {},
     "output_type": "execute_result"
    }
   ],
   "source": [
    "dif2 = dif.diff(x)\n",
    "dif2"
   ]
  },
  {
   "cell_type": "code",
   "execution_count": 10,
   "id": "a623a9e8",
   "metadata": {},
   "outputs": [
    {
     "data": {
      "image/png": "[encoded data removed]",
      "text/latex": [
       "$\\displaystyle - \\frac{\\left(- 10 \\tan^{2}{\\left(2 x \\right)} - 10\\right) \\left(- 8 \\tan^{2}{\\left(2 x \\right)} - 8\\right) \\left(- 6 \\tan^{2}{\\left(2 x \\right)} - 6\\right) \\sin{\\left(2 x - 1 \\right)}}{\\tan^{6}{\\left(2 x \\right)}} - \\frac{6 \\left(- 8 \\tan^{2}{\\left(2 x \\right)} - 8\\right) \\left(- 6 \\tan^{2}{\\left(2 x \\right)} - 6\\right) \\cos{\\left(2 x - 1 \\right)}}{\\tan^{5}{\\left(2 x \\right)}} + \\frac{6 \\left(- 8 \\tan^{2}{\\left(2 x \\right)} - 8\\right) \\left(4 \\tan^{2}{\\left(2 x \\right)} + 4\\right) \\sin{\\left(2 x - 1 \\right)}}{\\tan^{4}{\\left(2 x \\right)}} + \\frac{14 \\left(- 6 \\tan^{2}{\\left(2 x \\right)} - 6\\right) \\left(4 \\tan^{2}{\\left(2 x \\right)} + 4\\right) \\sin{\\left(2 x - 1 \\right)}}{\\tan^{4}{\\left(2 x \\right)}} + \\frac{12 \\left(- 6 \\tan^{2}{\\left(2 x \\right)} - 6\\right) \\sin{\\left(2 x - 1 \\right)}}{\\tan^{4}{\\left(2 x \\right)}} + \\frac{24 \\cdot \\left(4 \\tan^{2}{\\left(2 x \\right)} + 4\\right) \\sin{\\left(2 x - 1 \\right)}}{\\tan^{2}{\\left(2 x \\right)}} + \\frac{36 \\cdot \\left(4 \\tan^{2}{\\left(2 x \\right)} + 4\\right) \\cos{\\left(2 x - 1 \\right)}}{\\tan^{3}{\\left(2 x \\right)}} + \\frac{8 \\cos{\\left(2 x - 1 \\right)}}{\\tan^{3}{\\left(2 x \\right)}}$"
      ],
      "text/plain": [
       "  ⎛        2          ⎞ ⎛       2         ⎞ ⎛       2         ⎞               \n",
       "  ⎝- 10⋅tan (2⋅x) - 10⎠⋅⎝- 8⋅tan (2⋅x) - 8⎠⋅⎝- 6⋅tan (2⋅x) - 6⎠⋅sin(2⋅x - 1)  \n",
       "- ────────────────────────────────────────────────────────────────────────── -\n",
       "                                     6                                        \n",
       "                                  tan (2⋅x)                                   \n",
       "\n",
       "   ⎛       2         ⎞ ⎛       2         ⎞                  ⎛       2         \n",
       " 6⋅⎝- 8⋅tan (2⋅x) - 8⎠⋅⎝- 6⋅tan (2⋅x) - 6⎠⋅cos(2⋅x - 1)   6⋅⎝- 8⋅tan (2⋅x) - 8\n",
       " ────────────────────────────────────────────────────── + ────────────────────\n",
       "                          5                                                   \n",
       "                       tan (2⋅x)                                              \n",
       "\n",
       "⎞ ⎛     2         ⎞                   ⎛       2         ⎞ ⎛     2         ⎞   \n",
       "⎠⋅⎝4⋅tan (2⋅x) + 4⎠⋅sin(2⋅x - 1)   14⋅⎝- 6⋅tan (2⋅x) - 6⎠⋅⎝4⋅tan (2⋅x) + 4⎠⋅si\n",
       "──────────────────────────────── + ───────────────────────────────────────────\n",
       "    4                                                       4                 \n",
       " tan (2⋅x)                                               tan (2⋅x)            \n",
       "\n",
       "                ⎛       2         ⎞                   ⎛     2         ⎞       \n",
       "n(2⋅x - 1)   12⋅⎝- 6⋅tan (2⋅x) - 6⎠⋅sin(2⋅x - 1)   24⋅⎝4⋅tan (2⋅x) + 4⎠⋅sin(2⋅\n",
       "────────── + ─────────────────────────────────── + ───────────────────────────\n",
       "                             4                                    2           \n",
       "                          tan (2⋅x)                            tan (2⋅x)      \n",
       "\n",
       "            ⎛     2         ⎞                              \n",
       "x - 1)   36⋅⎝4⋅tan (2⋅x) + 4⎠⋅cos(2⋅x - 1)   8⋅cos(2⋅x - 1)\n",
       "────── + ───────────────────────────────── + ──────────────\n",
       "                        3                         3        \n",
       "                     tan (2⋅x)                 tan (2⋅x)   "
      ]
     },
     "execution_count": 10,
     "metadata": {},
     "output_type": "execute_result"
    }
   ],
   "source": [
    "dif3 = dif2.diff(x)\n",
    "dif3"
   ]
  },
  {
   "cell_type": "markdown",
   "id": "ce4931ea",
   "metadata": {},
   "source": [
    "# Исследование функций"
   ]
  },
  {
   "cell_type": "code",
   "execution_count": 11,
   "id": "ef5b5472",
   "metadata": {},
   "outputs": [
    {
     "data": {
      "image/png": "[encoded data removed]",
      "text/latex": [
       "$\\displaystyle \\frac{\\left(x - 1\\right)^{2}}{x^{2}}$"
      ],
      "text/plain": [
       "       2\n",
       "(x - 1) \n",
       "────────\n",
       "    2   \n",
       "   x    "
      ]
     },
     "execution_count": 11,
     "metadata": {},
     "output_type": "execute_result"
    }
   ],
   "source": [
    "f = ((x - 1)/x)**2\n",
    "f"
   ]
  },
  {
   "cell_type": "code",
   "execution_count": 12,
   "id": "72e3bb23",
   "metadata": {},
   "outputs": [
    {
     "data": {
      "image/png": "[encoded data removed]",
      "text/plain": [
       "<Figure size 640x480 with 1 Axes>"
      ]
     },
     "metadata": {},
     "output_type": "display_data"
    },
    {
     "data": {
      "text/plain": [
       "<sympy.plotting.plot.Plot at 0x1f1fd2dbf70>"
      ]
     },
     "execution_count": 12,
     "metadata": {},
     "output_type": "execute_result"
    }
   ],
   "source": [
    "plot(f, (x, -10, 10))"
   ]
  },
  {
   "cell_type": "code",
   "execution_count": 13,
   "id": "26c6ba1b",
   "metadata": {},
   "outputs": [
    {
     "data": {
      "image/png": "[encoded data removed]",
      "text/latex": [
       "$\\displaystyle \\frac{2 x - 2}{x^{2}} - \\frac{2 \\left(x - 1\\right)^{2}}{x^{3}}$"
      ],
      "text/plain": [
       "                   2\n",
       "2⋅x - 2   2⋅(x - 1) \n",
       "─────── - ──────────\n",
       "    2          3    \n",
       "   x          x     "
      ]
     },
     "execution_count": 13,
     "metadata": {},
     "output_type": "execute_result"
    }
   ],
   "source": [
    "dif = f.diff(x)\n",
    "dif"
   ]
  },
  {
   "cell_type": "code",
   "execution_count": 14,
   "id": "2cda4802",
   "metadata": {},
   "outputs": [
    {
     "data": {
      "image/png": "[encoded data removed]",
      "text/latex": [
       "$\\displaystyle \\frac{2 \\left(x - 1\\right)}{x^{3}}$"
      ],
      "text/plain": [
       "2⋅(x - 1)\n",
       "─────────\n",
       "     3   \n",
       "    x    "
      ]
     },
     "execution_count": 14,
     "metadata": {},
     "output_type": "execute_result"
    }
   ],
   "source": [
    "sim_dif = simplify(dif)\n",
    "sim_dif"
   ]
  },
  {
   "cell_type": "code",
   "execution_count": 15,
   "id": "80e8c571",
   "metadata": {},
   "outputs": [
    {
     "data": {
      "image/png": "[encoded data removed]",
      "text/latex": [
       "$\\displaystyle \\left\\{1\\right\\}$"
      ],
      "text/plain": [
       "{1}"
      ]
     },
     "execution_count": 15,
     "metadata": {},
     "output_type": "execute_result"
    }
   ],
   "source": [
    "eq = Eq(sim_dif, 0)\n",
    "solveset(eq, x)"
   ]
  },
  {
   "cell_type": "markdown",
   "id": "56b6d1ed",
   "metadata": {},
   "source": [
    "# Неопределённый интеграл"
   ]
  },
  {
   "cell_type": "code",
   "execution_count": 16,
   "id": "a6abc542",
   "metadata": {},
   "outputs": [
    {
     "data": {
      "image/png": "[encoded data removed]",
      "text/latex": [
       "$\\displaystyle \\left(1 - 2 x\\right) e^{x}$"
      ],
      "text/plain": [
       "           x\n",
       "(1 - 2⋅x)⋅ℯ "
      ]
     },
     "execution_count": 16,
     "metadata": {},
     "output_type": "execute_result"
    }
   ],
   "source": [
    "f = exp(x) * (1 - 2*x)\n",
    "f"
   ]
  },
  {
   "cell_type": "code",
   "execution_count": 17,
   "id": "ab191a19",
   "metadata": {},
   "outputs": [
    {
     "data": {
      "image/png": "[encoded data removed]",
      "text/latex": [
       "$\\displaystyle \\left(3 - 2 x\\right) e^{x}$"
      ],
      "text/plain": [
       "           x\n",
       "(3 - 2⋅x)⋅ℯ "
      ]
     },
     "execution_count": 17,
     "metadata": {},
     "output_type": "execute_result"
    }
   ],
   "source": [
    "integrate(f, x)"
   ]
  },
  {
   "cell_type": "markdown",
   "id": "cfc55c2e",
   "metadata": {},
   "source": [
    "# Определённый интеграл"
   ]
  },
  {
   "cell_type": "code",
   "execution_count": 18,
   "id": "ed93db94",
   "metadata": {},
   "outputs": [],
   "source": [
    "f1 = (x**2)/(4)\n",
    "f2 = (8)/(x**2 + 4)"
   ]
  },
  {
   "cell_type": "code",
   "execution_count": 19,
   "id": "6d6cdc03",
   "metadata": {},
   "outputs": [
    {
     "data": {
      "image/png": "[encoded data removed]",
      "text/latex": [
       "$\\displaystyle \\frac{x^{2}}{4}$"
      ],
      "text/plain": [
       " 2\n",
       "x \n",
       "──\n",
       "4 "
      ]
     },
     "execution_count": 19,
     "metadata": {},
     "output_type": "execute_result"
    }
   ],
   "source": [
    "f1"
   ]
  },
  {
   "cell_type": "code",
   "execution_count": 20,
   "id": "9ff816e6",
   "metadata": {},
   "outputs": [
    {
     "data": {
      "image/png": "[encoded data removed]",
      "text/latex": [
       "$\\displaystyle \\frac{8}{x^{2} + 4}$"
      ],
      "text/plain": [
       "  8   \n",
       "──────\n",
       " 2    \n",
       "x  + 4"
      ]
     },
     "execution_count": 20,
     "metadata": {},
     "output_type": "execute_result"
    }
   ],
   "source": [
    "f2"
   ]
  },
  {
   "cell_type": "code",
   "execution_count": 21,
   "id": "585e8288",
   "metadata": {},
   "outputs": [
    {
     "data": {
      "image/png": "[encoded data removed]",
      "text/plain": [
       "<Figure size 640x480 with 1 Axes>"
      ]
     },
     "metadata": {},
     "output_type": "display_data"
    },
    {
     "data": {
      "text/plain": [
       "<sympy.plotting.plot.Plot at 0x1f1fd133a60>"
      ]
     },
     "execution_count": 21,
     "metadata": {},
     "output_type": "execute_result"
    }
   ],
   "source": [
    "plot(f1, f2, (x, -3, 3))"
   ]
  },
  {
   "cell_type": "code",
   "execution_count": 22,
   "id": "a42627d5",
   "metadata": {},
   "outputs": [
    {
     "data": {
      "image/png": "[encoded data removed]",
      "text/latex": [
       "$\\displaystyle \\frac{4}{3}$"
      ],
      "text/plain": [
       "4/3"
      ]
     },
     "execution_count": 22,
     "metadata": {},
     "output_type": "execute_result"
    }
   ],
   "source": [
    "S1 = integrate(f1, (x, -2, 2))\n",
    "S1"
   ]
  },
  {
   "cell_type": "code",
   "execution_count": 23,
   "id": "cdbf734d",
   "metadata": {},
   "outputs": [
    {
     "data": {
      "image/png": "[encoded data removed]",
      "text/latex": [
       "$\\displaystyle 2 \\pi$"
      ],
      "text/plain": [
       "2⋅π"
      ]
     },
     "execution_count": 23,
     "metadata": {},
     "output_type": "execute_result"
    }
   ],
   "source": [
    "S2 = integrate(f2, (x, -2, 2))\n",
    "S2"
   ]
  },
  {
   "cell_type": "code",
   "execution_count": 24,
   "id": "b996e634",
   "metadata": {},
   "outputs": [
    {
     "data": {
      "image/png": "[encoded data removed]",
      "text/latex": [
       "$\\displaystyle 6.28318530717959$"
      ],
      "text/plain": [
       "6.28318530717959"
      ]
     },
     "execution_count": 24,
     "metadata": {},
     "output_type": "execute_result"
    }
   ],
   "source": [
    "S2 = 2 * pi.evalf()\n",
    "S2"
   ]
  },
  {
   "cell_type": "code",
   "execution_count": 25,
   "id": "aed8735c",
   "metadata": {
    "scrolled": true
   },
   "outputs": [
    {
     "data": {
      "image/png": "[encoded data removed]",
      "text/latex": [
       "$\\displaystyle 4.94985197384625$"
      ],
      "text/plain": [
       "4.94985197384625"
      ]
     },
     "execution_count": 25,
     "metadata": {},
     "output_type": "execute_result"
    }
   ],
   "source": [
    "S = S2 - S1 \n",
    "S"
   ]
  }
 ],
 "metadata": {
  "kernelspec": {
   "display_name": "Python 3 (ipykernel)",
   "language": "python",
   "name": "python3"
  },
  "language_info": {
   "codemirror_mode": {
    "name": "ipython",
    "version": 3
   },
   "file_extension": ".py",
   "mimetype": "text/x-python",
   "name": "python",
   "nbconvert_exporter": "python",
   "pygments_lexer": "ipython3",
   "version": "3.9.13"
  }
 },
 "nbformat": 4,
 "nbformat_minor": 5
}
