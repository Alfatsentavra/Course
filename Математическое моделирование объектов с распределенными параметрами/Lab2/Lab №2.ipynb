{
 "cells": [
  {
   "cell_type": "code",
   "execution_count": 1,
   "id": "43acfaca",
   "metadata": {},
   "outputs": [],
   "source": [
    "import numpy as np\n",
    "import random\n",
    "\n",
    "from sympy import *"
   ]
  },
  {
   "cell_type": "markdown",
   "id": "1b1abb18",
   "metadata": {},
   "source": [
    "# Заполнение матриц"
   ]
  },
  {
   "cell_type": "code",
   "execution_count": 2,
   "id": "4de8e3e1",
   "metadata": {},
   "outputs": [
    {
     "data": {
      "text/plain": [
       "array([[26,  9,  0, 78],\n",
       "       [60, 49, 25, 20],\n",
       "       [12, 33, 94, 94],\n",
       "       [55, 80, 33, 73]])"
      ]
     },
     "execution_count": 2,
     "metadata": {},
     "output_type": "execute_result"
    }
   ],
   "source": [
    "X1 = np.array([[random.randint(0,99),random.randint(0,99),random.randint(0,99),random.randint(0,99)],\n",
    "              [random.randint(0,99),random.randint(0,99),random.randint(0,99),random.randint(0,99)],\n",
    "              [random.randint(0,99),random.randint(0,99),random.randint(0,99),random.randint(0,99)],\n",
    "              [random.randint(0,99),random.randint(0,99),random.randint(0,99),random.randint(0,99)]])\n",
    "X1"
   ]
  },
  {
   "cell_type": "code",
   "execution_count": 3,
   "id": "c4945f85",
   "metadata": {},
   "outputs": [
    {
     "data": {
      "text/plain": [
       "array([[92, 62, 44, 70],\n",
       "       [87, 99, 96, 73],\n",
       "       [31, 11, 82, 49],\n",
       "       [79, 95, 49, 55]])"
      ]
     },
     "execution_count": 3,
     "metadata": {},
     "output_type": "execute_result"
    }
   ],
   "source": [
    "X2 = np.array([[random.randint(0,99),random.randint(0,99),random.randint(0,99),random.randint(0,99)],\n",
    "              [random.randint(0,99),random.randint(0,99),random.randint(0,99),random.randint(0,99)],\n",
    "              [random.randint(0,99),random.randint(0,99),random.randint(0,99),random.randint(0,99)],\n",
    "              [random.randint(0,99),random.randint(0,99),random.randint(0,99),random.randint(0,99)]])\n",
    "X2"
   ]
  },
  {
   "cell_type": "markdown",
   "id": "c1a4a1b8",
   "metadata": {},
   "source": [
    "# Математические операции"
   ]
  },
  {
   "cell_type": "code",
   "execution_count": 4,
   "id": "dfb582f7",
   "metadata": {},
   "outputs": [
    {
     "data": {
      "text/plain": [
       "array([[118,  71,  44, 148],\n",
       "       [147, 148, 121,  93],\n",
       "       [ 43,  44, 176, 143],\n",
       "       [134, 175,  82, 128]])"
      ]
     },
     "execution_count": 4,
     "metadata": {},
     "output_type": "execute_result"
    }
   ],
   "source": [
    "X_sum = X1 + X2\n",
    "X_sum"
   ]
  },
  {
   "cell_type": "code",
   "execution_count": 5,
   "id": "c196c4b4",
   "metadata": {},
   "outputs": [
    {
     "data": {
      "text/plain": [
       "array([[2392,  558,    0, 5460],\n",
       "       [5220, 4851, 2400, 1460],\n",
       "       [ 372,  363, 7708, 4606],\n",
       "       [4345, 7600, 1617, 4015]])"
      ]
     },
     "execution_count": 5,
     "metadata": {},
     "output_type": "execute_result"
    }
   ],
   "source": [
    "X_mul = X1 * X2\n",
    "X_mul"
   ]
  },
  {
   "cell_type": "code",
   "execution_count": 6,
   "id": "22e5a9da",
   "metadata": {},
   "outputs": [
    {
     "data": {
      "text/plain": [
       "array([[-66, -53, -44,   8],\n",
       "       [-27, -50, -71, -53],\n",
       "       [-19,  22,  12,  45],\n",
       "       [-24, -15, -16,  18]])"
      ]
     },
     "execution_count": 6,
     "metadata": {},
     "output_type": "execute_result"
    }
   ],
   "source": [
    "X_dif = X1 - X2\n",
    "X_dif"
   ]
  },
  {
   "cell_type": "code",
   "execution_count": 7,
   "id": "2fcf88a7",
   "metadata": {},
   "outputs": [
    {
     "data": {
      "text/plain": [
       "array([[0.2826087 , 0.14516129, 0.        , 1.11428571],\n",
       "       [0.68965517, 0.49494949, 0.26041667, 0.2739726 ],\n",
       "       [0.38709677, 3.        , 1.14634146, 1.91836735],\n",
       "       [0.69620253, 0.84210526, 0.67346939, 1.32727273]])"
      ]
     },
     "execution_count": 7,
     "metadata": {},
     "output_type": "execute_result"
    }
   ],
   "source": [
    "X_rat = X1 / X2\n",
    "X_rat"
   ]
  },
  {
   "cell_type": "markdown",
   "id": "5d6ccd1f",
   "metadata": {},
   "source": [
    "# Определители и обратные матрицы"
   ]
  },
  {
   "cell_type": "code",
   "execution_count": 8,
   "id": "60c7afe0",
   "metadata": {},
   "outputs": [
    {
     "data": {
      "text/plain": [
       "16149142.000000017"
      ]
     },
     "execution_count": 8,
     "metadata": {},
     "output_type": "execute_result"
    }
   ],
   "source": [
    "X1_det = np.linalg.det(X1)\n",
    "X1_det"
   ]
  },
  {
   "cell_type": "code",
   "execution_count": 9,
   "id": "f38941b1",
   "metadata": {},
   "outputs": [
    {
     "data": {
      "text/plain": [
       "898920.0000000013"
      ]
     },
     "execution_count": 9,
     "metadata": {},
     "output_type": "execute_result"
    }
   ],
   "source": [
    "X2_det = np.linalg.det(X2)\n",
    "X2_det"
   ]
  },
  {
   "cell_type": "code",
   "execution_count": 10,
   "id": "2d57e65b",
   "metadata": {},
   "outputs": [
    {
     "data": {
      "text/plain": [
       "array([[ 0.01135633,  0.02896612, -0.00120062, -0.01852408],\n",
       "       [-0.01470481, -0.01700474, -0.00479778,  0.02654878],\n",
       "       [-0.0070192 ,  0.00996524,  0.0115221 , -0.01006691],\n",
       "       [ 0.01073178, -0.00769329,  0.0009538 ,  0.00311137]])"
      ]
     },
     "execution_count": 10,
     "metadata": {},
     "output_type": "execute_result"
    }
   ],
   "source": [
    "X1_rev = np.linalg.inv(X1)\n",
    "X1_rev"
   ]
  },
  {
   "cell_type": "code",
   "execution_count": 11,
   "id": "c8ef4eea",
   "metadata": {},
   "outputs": [
    {
     "data": {
      "text/plain": [
       "array([[ 0.07594447,  0.22094513, -0.14204156, -0.26336493],\n",
       "       [-0.03271926, -0.06429716,  0.03625017,  0.09468696],\n",
       "       [ 0.01516486,  0.10344413, -0.05018912, -0.11188537],\n",
       "       [-0.0660793 , -0.29845815,  0.18612335,  0.33259912]])"
      ]
     },
     "execution_count": 11,
     "metadata": {},
     "output_type": "execute_result"
    }
   ],
   "source": [
    "X2_rev = np.linalg.inv(X2)\n",
    "X2_rev"
   ]
  },
  {
   "cell_type": "markdown",
   "id": "6ee0e884",
   "metadata": {},
   "source": [
    "# Проверка обратных матриц"
   ]
  },
  {
   "cell_type": "code",
   "execution_count": 12,
   "id": "114fb8ac",
   "metadata": {},
   "outputs": [
    {
     "data": {
      "text/plain": [
       "array([[ 1., -0.,  0.,  0.],\n",
       "       [ 0.,  1.,  0.,  0.],\n",
       "       [-0., -0.,  1.,  0.],\n",
       "       [ 0., -0.,  0.,  1.]])"
      ]
     },
     "execution_count": 12,
     "metadata": {},
     "output_type": "execute_result"
    }
   ],
   "source": [
    "E1 = X1 @ X1_rev\n",
    "E1.round()"
   ]
  },
  {
   "cell_type": "code",
   "execution_count": 13,
   "id": "6856d7e8",
   "metadata": {},
   "outputs": [
    {
     "data": {
      "text/plain": [
       "array([[ 1.,  0.,  0., -0.],\n",
       "       [ 0.,  1.,  0., -0.],\n",
       "       [ 0., -0.,  1.,  0.],\n",
       "       [ 0.,  0.,  0.,  1.]])"
      ]
     },
     "execution_count": 13,
     "metadata": {},
     "output_type": "execute_result"
    }
   ],
   "source": [
    "E2 = X2 @ X2_rev\n",
    "E2.round()"
   ]
  },
  {
   "cell_type": "markdown",
   "id": "b4d3bdbb",
   "metadata": {},
   "source": [
    "# Решение линейный уравнений"
   ]
  },
  {
   "cell_type": "code",
   "execution_count": 14,
   "id": "3e9ae095",
   "metadata": {},
   "outputs": [
    {
     "data": {
      "text/plain": [
       "array([24, 63, 75,  5])"
      ]
     },
     "execution_count": 14,
     "metadata": {},
     "output_type": "execute_result"
    }
   ],
   "source": [
    "Y1 = np.array([random.randint(0,99),random.randint(0,99),random.randint(0,99),random.randint(0,99)])\n",
    "Y1"
   ]
  },
  {
   "cell_type": "code",
   "execution_count": 15,
   "id": "da7b1205",
   "metadata": {},
   "outputs": [
    {
     "data": {
      "text/plain": [
       "array([80, 34, 99,  0])"
      ]
     },
     "execution_count": 15,
     "metadata": {},
     "output_type": "execute_result"
    }
   ],
   "source": [
    "Y2 = np.array([random.randint(0,99),random.randint(0,99),random.randint(0,99),random.randint(0,99)])\n",
    "Y2"
   ]
  },
  {
   "cell_type": "code",
   "execution_count": 16,
   "id": "9c96774d",
   "metadata": {},
   "outputs": [
    {
     "data": {
      "text/plain": [
       "array([ 1.91475058, -1.65130358,  1.27317191, -0.14002286])"
      ]
     },
     "execution_count": 16,
     "metadata": {},
     "output_type": "execute_result"
    }
   ],
   "source": [
    "X1_lin = np.linalg.solve(X1, Y1)\n",
    "X1_lin"
   ]
  },
  {
   "cell_type": "code",
   "execution_count": 17,
   "id": "198b75b0",
   "metadata": {},
   "outputs": [
    {
     "data": {
      "text/plain": [
       "array([-0.47442264, -1.21487785, -0.23843279,  2.99229075])"
      ]
     },
     "execution_count": 17,
     "metadata": {},
     "output_type": "execute_result"
    }
   ],
   "source": [
    "X2_lin = np.linalg.solve(X2, Y2)\n",
    "X2_lin"
   ]
  },
  {
   "cell_type": "markdown",
   "id": "5395c253",
   "metadata": {},
   "source": [
    "# Проверка решения линейный уравнений"
   ]
  },
  {
   "cell_type": "code",
   "execution_count": 18,
   "id": "60b5ee18",
   "metadata": {},
   "outputs": [
    {
     "data": {
      "text/plain": [
       "array([24., 63., 75.,  5.])"
      ]
     },
     "execution_count": 18,
     "metadata": {},
     "output_type": "execute_result"
    }
   ],
   "source": [
    "X1_test = np.dot(X1, X1_lin)\n",
    "X1_test"
   ]
  },
  {
   "cell_type": "code",
   "execution_count": 19,
   "id": "45970a22",
   "metadata": {},
   "outputs": [
    {
     "data": {
      "text/plain": [
       "array([24., 63., 75.,  5.])"
      ]
     },
     "execution_count": 19,
     "metadata": {},
     "output_type": "execute_result"
    }
   ],
   "source": [
    "X1_test = X1 @ X1_lin\n",
    "X1_test"
   ]
  },
  {
   "cell_type": "code",
   "execution_count": 22,
   "id": "8ac12314",
   "metadata": {},
   "outputs": [
    {
     "data": {
      "text/plain": [
       "array([80., 34., 99.,  0.])"
      ]
     },
     "execution_count": 22,
     "metadata": {},
     "output_type": "execute_result"
    }
   ],
   "source": [
    "X2_test = np.dot(X2, X2_lin)\n",
    "X2_test.round()"
   ]
  },
  {
   "cell_type": "code",
   "execution_count": 21,
   "id": "ba2946f5",
   "metadata": {},
   "outputs": [
    {
     "data": {
      "text/plain": [
       "array([24., 63., 75.,  5.])"
      ]
     },
     "execution_count": 21,
     "metadata": {},
     "output_type": "execute_result"
    }
   ],
   "source": [
    "X2_test = X1 @ X1_lin\n",
    "X2_test"
   ]
  }
 ],
 "metadata": {
  "kernelspec": {
   "display_name": "Python 3 (ipykernel)",
   "language": "python",
   "name": "python3"
  },
  "language_info": {
   "codemirror_mode": {
    "name": "ipython",
    "version": 3
   },
   "file_extension": ".py",
   "mimetype": "text/x-python",
   "name": "python",
   "nbconvert_exporter": "python",
   "pygments_lexer": "ipython3",
   "version": "3.9.13"
  }
 },
 "nbformat": 4,
 "nbformat_minor": 5
}
