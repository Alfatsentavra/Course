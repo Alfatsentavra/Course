{
 "cells": [
  {
   "cell_type": "code",
   "execution_count": 1,
   "id": "ca77adeb",
   "metadata": {},
   "outputs": [],
   "source": [
    "from sympy import *\n",
    "\n",
    "init_printing()"
   ]
  },
  {
   "cell_type": "code",
   "execution_count": 2,
   "id": "171be39f",
   "metadata": {},
   "outputs": [],
   "source": [
    "def vec_prod(a,b):\n",
    "    return(a[1]*b[2]-a[2]*b[1], a[2]*b[0]-a[0]*b[2], a[0]*b[1]-a[1]*b[0])"
   ]
  },
  {
   "cell_type": "code",
   "execution_count": 3,
   "id": "49336bf4",
   "metadata": {},
   "outputs": [],
   "source": [
    "def scal_prod(a,b):\n",
    "    return(a[0]*b[0] + a[1]*b[1] + a[2]*b[2])"
   ]
  },
  {
   "cell_type": "code",
   "execution_count": 4,
   "id": "9c05cb8f",
   "metadata": {},
   "outputs": [],
   "source": [
    "def dif(a,b):\n",
    "    return(a[0]-b[0],a[1]-b[1],a[2]-b[2])"
   ]
  },
  {
   "cell_type": "code",
   "execution_count": 5,
   "id": "55ed6a73",
   "metadata": {},
   "outputs": [],
   "source": [
    "def mul(a,b):\n",
    "    return(a[0]*b, a[1]*b, a[2]*b)"
   ]
  },
  {
   "cell_type": "code",
   "execution_count": 6,
   "id": "b00acf46",
   "metadata": {},
   "outputs": [
    {
     "data": {
      "image/png": "[encoded data removed]",
      "text/latex": [
       "$\\displaystyle \\left[ 1, \\  2, \\  3\\right]$"
      ],
      "text/plain": [
       "[1, 2, 3]"
      ]
     },
     "execution_count": 6,
     "metadata": {},
     "output_type": "execute_result"
    }
   ],
   "source": [
    "a = [1, 2, 3]\n",
    "a"
   ]
  },
  {
   "cell_type": "code",
   "execution_count": 7,
   "id": "a0f5c664",
   "metadata": {},
   "outputs": [
    {
     "data": {
      "image/png": "[encoded data removed]",
      "text/latex": [
       "$\\displaystyle \\left[ 7, \\  9, \\  4\\right]$"
      ],
      "text/plain": [
       "[7, 9, 4]"
      ]
     },
     "execution_count": 7,
     "metadata": {},
     "output_type": "execute_result"
    }
   ],
   "source": [
    "b = [7, 9, 4]\n",
    "b"
   ]
  },
  {
   "cell_type": "code",
   "execution_count": 8,
   "id": "b6fd04ac",
   "metadata": {},
   "outputs": [
    {
     "data": {
      "image/png": "[encoded data removed]",
      "text/latex": [
       "$\\displaystyle \\left[ 9, \\  1, \\  3\\right]$"
      ],
      "text/plain": [
       "[9, 1, 3]"
      ]
     },
     "execution_count": 8,
     "metadata": {},
     "output_type": "execute_result"
    }
   ],
   "source": [
    "c = [9, 1, 3]\n",
    "c"
   ]
  },
  {
   "cell_type": "code",
   "execution_count": 9,
   "id": "97693bc0",
   "metadata": {},
   "outputs": [
    {
     "data": {
      "image/png": "[encoded data removed]",
      "text/latex": [
       "$\\displaystyle \\left[ 0, \\  8, \\  7\\right]$"
      ],
      "text/plain": [
       "[0, 8, 7]"
      ]
     },
     "execution_count": 9,
     "metadata": {},
     "output_type": "execute_result"
    }
   ],
   "source": [
    "d = [0, 8, 7]\n",
    "d"
   ]
  },
  {
   "cell_type": "code",
   "execution_count": 10,
   "id": "30ff6693",
   "metadata": {},
   "outputs": [
    {
     "data": {
      "image/png": "[encoded data removed]",
      "text/latex": [
       "$\\displaystyle \\left( 909, \\  1453, \\  1486\\right)$"
      ],
      "text/plain": [
       "(909, 1453, 1486)"
      ]
     },
     "execution_count": 10,
     "metadata": {},
     "output_type": "execute_result"
    }
   ],
   "source": [
    "x1 = vec_prod(vec_prod(a,b),vec_prod(c,d))\n",
    "x1"
   ]
  },
  {
   "cell_type": "code",
   "execution_count": 11,
   "id": "5880057b",
   "metadata": {},
   "outputs": [
    {
     "data": {
      "image/png": "[encoded data removed]",
      "text/latex": [
       "$\\displaystyle \\left( 909, \\  1453, \\  1486\\right)$"
      ],
      "text/plain": [
       "(909, 1453, 1486)"
      ]
     },
     "execution_count": 11,
     "metadata": {},
     "output_type": "execute_result"
    }
   ],
   "source": [
    "x2 = dif(mul(b,scal_prod(a,vec_prod(c,d))),mul(a,scal_prod(b,vec_prod(c,d))))\n",
    "x2"
   ]
  }
 ],
 "metadata": {
  "kernelspec": {
   "display_name": "Python 3 (ipykernel)",
   "language": "python",
   "name": "python3"
  },
  "language_info": {
   "codemirror_mode": {
    "name": "ipython",
    "version": 3
   },
   "file_extension": ".py",
   "mimetype": "text/x-python",
   "name": "python",
   "nbconvert_exporter": "python",
   "pygments_lexer": "ipython3",
   "version": "3.9.13"
  }
 },
 "nbformat": 4,
 "nbformat_minor": 5
}
